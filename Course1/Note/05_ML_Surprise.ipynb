{
 "cells": [
  {
   "cell_type": "markdown",
   "metadata": {},
   "source": [
    "## The ML Surprise\n",
    "\n",
    "### what is ML?\n",
    "\n",
    " - Machine learning(ML) is the process of a computer writing a computer program to accomplish a task.\n",
    " \n",
    " - The computer figures out the 'best' program to write by only looking at a set of examples."
   ]
  },
  {
   "cell_type": "markdown",
   "metadata": {},
   "source": [
    "![1](https://user-images.githubusercontent.com/46242120/109756786-e7d70b00-7c2b-11eb-85a4-210705628908.png)\n",
    "![2](https://user-images.githubusercontent.com/46242120/109756797-eb6a9200-7c2b-11eb-8cb1-414c175cc46d.png)\n",
    "![3](https://user-images.githubusercontent.com/46242120/109756798-ec9bbf00-7c2b-11eb-92c4-45a42c7d3f65.png)\n",
    "![4](https://user-images.githubusercontent.com/46242120/109756799-ed345580-7c2b-11eb-8a17-56cae72c2f89.png)"
   ]
  },
  {
   "cell_type": "markdown",
   "metadata": {},
   "source": [
    "## The Secret Sauce"
   ]
  },
  {
   "cell_type": "markdown",
   "metadata": {},
   "source": [
    "![5](https://user-images.githubusercontent.com/46242120/109757359-f8d44c00-7c2c-11eb-8a58-34126680bb6b.png)"
   ]
  },
  {
   "cell_type": "markdown",
   "metadata": {},
   "source": [
    "#### Most ML value comes along the way\n",
    "#### ML improves almost everthing it touches\n",
    "#### If ML is hard, it's hard for your competitors too\n",
    "#### ML is a great differentiator"
   ]
  },
  {
   "cell_type": "markdown",
   "metadata": {},
   "source": [
    "### ML and Business Processes\n",
    "\n",
    "![6](https://user-images.githubusercontent.com/46242120/109758059-646ae900-7c2e-11eb-84f5-0926a0604e30.png)\n",
    "![7](https://user-images.githubusercontent.com/46242120/109758179-85cbd500-7c2e-11eb-8204-ba2c95f3580d.png)\n",
    "\n",
    "HOW CHANGE HAPPENS IN PHASES:\n",
    "\n",
    "    STEP 1 - Individual contributor\n",
    "    STEP 2 - Delegation\n",
    "    STEP 3 - Digitization\n",
    "    STEP 4 - Big Data and Analytics\n",
    "    STEP 5 - Machine Learning"
   ]
  },
  {
   "cell_type": "markdown",
   "metadata": {},
   "source": [
    "## End of phases deep dive"
   ]
  },
  {
   "cell_type": "markdown",
   "metadata": {},
   "source": [
    "![7](https://user-images.githubusercontent.com/46242120/109759018-bfe9a680-7c2f-11eb-86c0-0257e6d71974.png)\n",
    "\n",
    "- Don't Leap into a Fully ML Solution"
   ]
  }
 ],
 "metadata": {
  "kernelspec": {
   "display_name": "Python 3",
   "language": "python",
   "name": "python3"
  },
  "language_info": {
   "codemirror_mode": {
    "name": "ipython",
    "version": 3
   },
   "file_extension": ".py",
   "mimetype": "text/x-python",
   "name": "python",
   "nbconvert_exporter": "python",
   "pygments_lexer": "ipython3",
   "version": "3.7.2"
  }
 },
 "nbformat": 4,
 "nbformat_minor": 4
}
