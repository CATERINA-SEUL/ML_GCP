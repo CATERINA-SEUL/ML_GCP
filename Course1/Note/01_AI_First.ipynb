{
 "cells": [
  {
   "cell_type": "markdown",
   "metadata": {},
   "source": [
    "![1](https://user-images.githubusercontent.com/46242120/109390437-05b71e00-7955-11eb-996c-791ee44543bb.png)\n",
    "![2](https://user-images.githubusercontent.com/46242120/109390440-0b146880-7955-11eb-9d93-2f8a65ced197.png)\n",
    "![3](https://user-images.githubusercontent.com/46242120/109390442-0c459580-7955-11eb-85b7-97eaccb3b135.png)"
   ]
  },
  {
   "cell_type": "markdown",
   "metadata": {},
   "source": [
    "---"
   ]
  },
  {
   "cell_type": "markdown",
   "metadata": {},
   "source": [
    "![4](https://user-images.githubusercontent.com/46242120/109390661-554a1980-7956-11eb-9325-40177b7094e3.png)\n",
    "\n",
    "The reason had to do with; number 1, computational power, training deep neural networks. Neural networks with lots of layers, takes a lot of computing power. Second reason, they had only one hidden layer, availability of data. As you add more layers, there are more and more weights to adjust. So you need lots of more data. The third reason why you had only one hidden layer, computational tricks. "
   ]
  }
 ],
 "metadata": {
  "kernelspec": {
   "display_name": "Python 3",
   "language": "python",
   "name": "python3"
  },
  "language_info": {
   "codemirror_mode": {
    "name": "ipython",
    "version": 3
   },
   "file_extension": ".py",
   "mimetype": "text/x-python",
   "name": "python",
   "nbconvert_exporter": "python",
   "pygments_lexer": "ipython3",
   "version": "3.7.2"
  }
 },
 "nbformat": 4,
 "nbformat_minor": 4
}
