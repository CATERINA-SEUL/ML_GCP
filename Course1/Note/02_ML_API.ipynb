{
 "cells": [
  {
   "cell_type": "markdown",
   "metadata": {},
   "source": [
    "### Cloud Natural Language"
   ]
  },
  {
   "cell_type": "markdown",
   "metadata": {},
   "source": [
    "![1](https://user-images.githubusercontent.com/46242120/109417173-d7dde200-7a05-11eb-8469-a72617332a1c.png)\n",
    "![2](https://user-images.githubusercontent.com/46242120/109417175-dca29600-7a05-11eb-948a-cd929fc3dd93.png)\n",
    "![3](https://user-images.githubusercontent.com/46242120/109417177-de6c5980-7a05-11eb-8fb9-fba79d21c509.png)"
   ]
  },
  {
   "cell_type": "markdown",
   "metadata": {},
   "source": [
    "### Cloud Text - to - Speech"
   ]
  },
  {
   "cell_type": "markdown",
   "metadata": {},
   "source": [
    "![4](https://user-images.githubusercontent.com/46242120/109417368-b7faee00-7a06-11eb-8553-f46851edad02.png)\n",
    "![5](https://user-images.githubusercontent.com/46242120/109417500-47080600-7a07-11eb-8efc-d9a39cdb7b85.png)"
   ]
  },
  {
   "cell_type": "markdown",
   "metadata": {},
   "source": [
    "### DiaglogFlow"
   ]
  },
  {
   "cell_type": "markdown",
   "metadata": {},
   "source": [
    "![6](https://user-images.githubusercontent.com/46242120/109417739-399f4b80-7a08-11eb-87a2-a2d8e33dcf73.png)\n",
    "![7](https://user-images.githubusercontent.com/46242120/109417747-3f952c80-7a08-11eb-935f-5d9c6f079ec7.png)\n",
    "![8](https://user-images.githubusercontent.com/46242120/109417752-4328b380-7a08-11eb-8e12-1227e30d47cc.png)\n",
    "![9](https://user-images.githubusercontent.com/46242120/109417909-ec6fa980-7a08-11eb-8b86-83b69cb8c28a.png)\n",
    "![10](https://user-images.githubusercontent.com/46242120/109417917-f1ccf400-7a08-11eb-9ed5-d2a7825df2b4.png)\n",
    "![11](https://user-images.githubusercontent.com/46242120/109417918-f2fe2100-7a08-11eb-88a5-db8999999485.png)\n",
    "![12](https://user-images.githubusercontent.com/46242120/109417919-f42f4e00-7a08-11eb-9000-5e2d428e2f9c.png)"
   ]
  }
 ],
 "metadata": {
  "kernelspec": {
   "display_name": "Python 3",
   "language": "python",
   "name": "python3"
  },
  "language_info": {
   "codemirror_mode": {
    "name": "ipython",
    "version": 3
   },
   "file_extension": ".py",
   "mimetype": "text/x-python",
   "name": "python",
   "nbconvert_exporter": "python",
   "pygments_lexer": "ipython3",
   "version": "3.7.2"
  }
 },
 "nbformat": 4,
 "nbformat_minor": 4
}
