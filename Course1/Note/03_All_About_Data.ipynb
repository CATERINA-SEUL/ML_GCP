{
 "cells": [
  {
   "cell_type": "markdown",
   "metadata": {},
   "source": [
    "## all about data"
   ]
  },
  {
   "cell_type": "markdown",
   "metadata": {},
   "source": [
    "![1](https://user-images.githubusercontent.com/46242120/109745159-cc153a00-7c16-11eb-85b8-e2a55ac7d99c.png)\n",
    "![2](https://user-images.githubusercontent.com/46242120/109745181-d33c4800-7c16-11eb-954c-a292206e1edc.png)\n",
    "![3](https://user-images.githubusercontent.com/46242120/109745185-d46d7500-7c16-11eb-92f9-9c2bb5f558ee.png)"
   ]
  },
  {
   "cell_type": "markdown",
   "metadata": {},
   "source": [
    "## A data strategy"
   ]
  },
  {
   "cell_type": "markdown",
   "metadata": {},
   "source": [
    "![4](https://user-images.githubusercontent.com/46242120/109745751-af2d3680-7c17-11eb-846b-9a549f67ff54.png)\n",
    "![5](https://user-images.githubusercontent.com/46242120/109745886-d71c9a00-7c17-11eb-8c64-4b90a0db4a57.png)"
   ]
  },
  {
   "cell_type": "markdown",
   "metadata": {},
   "source": [
    "## Training and serving skew"
   ]
  },
  {
   "cell_type": "markdown",
   "metadata": {},
   "source": [
    "![6](https://user-images.githubusercontent.com/46242120/109746534-e05a3680-7c18-11eb-9df8-669ed3f2f95a.png)\n",
    "![7](https://user-images.githubusercontent.com/46242120/109746544-e5b78100-7c18-11eb-877e-42cbb6b113d4.png)\n",
    "![8](https://user-images.githubusercontent.com/46242120/109746548-e7814480-7c18-11eb-850f-8060f3d1bf44.png)\n",
    "![9](https://user-images.githubusercontent.com/46242120/109746552-e9e39e80-7c18-11eb-858b-af60893cf84f.png)"
   ]
  },
  {
   "cell_type": "markdown",
   "metadata": {},
   "source": [
    "## ML Training Phases"
   ]
  },
  {
   "cell_type": "markdown",
   "metadata": {},
   "source": [
    "![10](https://user-images.githubusercontent.com/46242120/109747369-57dc9580-7c1a-11eb-8e2a-2540908280d8.png)\n",
    "![11](https://user-images.githubusercontent.com/46242120/109747381-5d39e000-7c1a-11eb-8828-0780a046a927.png)\n",
    "\n",
    "## MLOps is lifecycle management discipline for machine learning.\n",
    "\n",
    "![12](https://user-images.githubusercontent.com/46242120/109747382-5dd27680-7c1a-11eb-85e0-09d2dc64f071.png)\n",
    "![13](https://user-images.githubusercontent.com/46242120/109747385-5f03a380-7c1a-11eb-9e78-0df0a4cdd393.png)\n",
    "![14](https://user-images.githubusercontent.com/46242120/109747387-6034d080-7c1a-11eb-8f57-6dfb754c868a.png)\n",
    "![15](https://user-images.githubusercontent.com/46242120/109747389-60cd6700-7c1a-11eb-956d-0b1771360eee.png)\n",
    "![16](https://user-images.githubusercontent.com/46242120/109747390-61fe9400-7c1a-11eb-9000-9af75612bb28.png)\n",
    "![17](https://user-images.githubusercontent.com/46242120/109747393-632fc100-7c1a-11eb-9b52-30c81edc1208.png)\n",
    "![18](https://user-images.githubusercontent.com/46242120/109747396-63c85780-7c1a-11eb-98f0-0b6936d04066.png)\n",
    "![19](https://user-images.githubusercontent.com/46242120/109747398-64f98480-7c1a-11eb-8e32-2cd4994ff473.png)\n",
    "![20](https://user-images.githubusercontent.com/46242120/109747400-65921b00-7c1a-11eb-9ff5-7d41d8aef3f0.png)\n",
    "![21](https://user-images.githubusercontent.com/46242120/109747402-662ab180-7c1a-11eb-917c-71f05318ae2a.png)\n",
    "![22](https://user-images.githubusercontent.com/46242120/109747405-66c34800-7c1a-11eb-95ad-044adb617bc9.png)"
   ]
  }
 ],
 "metadata": {
  "kernelspec": {
   "display_name": "Python 3",
   "language": "python",
   "name": "python3"
  },
  "language_info": {
   "codemirror_mode": {
    "name": "ipython",
    "version": 3
   },
   "file_extension": ".py",
   "mimetype": "text/x-python",
   "name": "python",
   "nbconvert_exporter": "python",
   "pygments_lexer": "ipython3",
   "version": "3.7.2"
  }
 },
 "nbformat": 4,
 "nbformat_minor": 4
}
