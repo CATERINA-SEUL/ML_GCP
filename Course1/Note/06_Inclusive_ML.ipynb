{
 "cells": [
  {
   "cell_type": "markdown",
   "metadata": {},
   "source": [
    "## Evaluation Metrics for Inclusion"
   ]
  },
  {
   "cell_type": "markdown",
   "metadata": {},
   "source": [
    "![1](https://user-images.githubusercontent.com/46242120/109760490-19eb6b80-7c32-11eb-8fa2-ce91348bb97d.png)\n",
    "![2](https://user-images.githubusercontent.com/46242120/109760507-21127980-7c32-11eb-9a77-b8b6cfd8c694.png)\n",
    "![3](https://user-images.githubusercontent.com/46242120/109760510-21ab1000-7c32-11eb-8761-15e8db26f18c.png)\n",
    "![4](https://user-images.githubusercontent.com/46242120/109760513-22dc3d00-7c32-11eb-9174-a169bee3d14d.png)\n",
    "![5](https://user-images.githubusercontent.com/46242120/109760514-2374d380-7c32-11eb-9a0e-1c3435fde9c6.png)\n",
    "![6](https://user-images.githubusercontent.com/46242120/109760517-240d6a00-7c32-11eb-8505-5453488837e0.png)"
   ]
  },
  {
   "cell_type": "markdown",
   "metadata": {},
   "source": [
    "## Statistical Measurements and acceptable tradeoffs"
   ]
  },
  {
   "cell_type": "markdown",
   "metadata": {},
   "source": [
    "![7](https://user-images.githubusercontent.com/46242120/109760949-f543c380-7c32-11eb-9455-3f834d35c792.png)\n",
    "![8](https://user-images.githubusercontent.com/46242120/109760961-fa087780-7c32-11eb-98ba-8720c02a82d3.png)\n",
    "![9](https://user-images.githubusercontent.com/46242120/109760965-fb39a480-7c32-11eb-9b18-d55451d6cd01.png)\n",
    "![10](https://user-images.githubusercontent.com/46242120/109760967-fc6ad180-7c32-11eb-9821-3e010df79cc2.png)\n",
    "![11](https://user-images.githubusercontent.com/46242120/109760970-fd9bfe80-7c32-11eb-94e7-a88ab3de1a75.png)"
   ]
  },
  {
   "cell_type": "markdown",
   "metadata": {},
   "source": [
    "## Equality of Opportunity"
   ]
  },
  {
   "cell_type": "markdown",
   "metadata": {},
   "source": [
    "![12](https://user-images.githubusercontent.com/46242120/109761262-6daa8480-7c33-11eb-9280-71f50975e979.png)\n",
    "\n",
    "---\n",
    "\n",
    "![13](https://user-images.githubusercontent.com/46242120/109761278-7307cf00-7c33-11eb-9302-f26c1b2d8c85.png)\n",
    "\n",
    "---\n",
    "\n",
    "![14](https://user-images.githubusercontent.com/46242120/109761281-7438fc00-7c33-11eb-8174-df8e0e52d4b7.png)\n",
    "\n",
    "---\n",
    "\n",
    "![15](https://user-images.githubusercontent.com/46242120/109761745-93d02480-7c33-11eb-8ef1-17617131e076.png)\n",
    "\n",
    "---\n",
    "\n",
    "![16](https://user-images.githubusercontent.com/46242120/109762330-bfeba580-7c33-11eb-8174-13c319a273f8.png)\n",
    "\n",
    "---\n",
    "\n",
    "![17](https://user-images.githubusercontent.com/46242120/109762343-c548f000-7c33-11eb-837b-b495d0e8befb.png)"
   ]
  },
  {
   "cell_type": "markdown",
   "metadata": {},
   "source": [
    "## Simulation Decisions"
   ]
  },
  {
   "cell_type": "markdown",
   "metadata": {},
   "source": [
    "![18](https://user-images.githubusercontent.com/46242120/109762718-6a63c880-7c34-11eb-96d3-bb8c60050d00.png)\n",
    "\n",
    "---\n",
    "\n",
    "![19](https://user-images.githubusercontent.com/46242120/109762735-7059a980-7c34-11eb-9fee-7db057868e1f.png)\n",
    "\n",
    "---\n",
    "\n",
    "![20](https://user-images.githubusercontent.com/46242120/109762740-72236d00-7c34-11eb-89f1-635b244f049e.png)\n",
    "\n",
    "---\n",
    "\n",
    "![21](https://user-images.githubusercontent.com/46242120/109762745-73549a00-7c34-11eb-9914-eb80a564404e.png) \n",
    "\n",
    "---\n",
    "\n",
    "![22](https://user-images.githubusercontent.com/46242120/109762750-7485c700-7c34-11eb-8087-85b766ceeef8.png)"
   ]
  }
 ],
 "metadata": {
  "kernelspec": {
   "display_name": "Python 3",
   "language": "python",
   "name": "python3"
  },
  "language_info": {
   "codemirror_mode": {
    "name": "ipython",
    "version": 3
   },
   "file_extension": ".py",
   "mimetype": "text/x-python",
   "name": "python",
   "nbconvert_exporter": "python",
   "pygments_lexer": "ipython3",
   "version": "3.7.2"
  }
 },
 "nbformat": 4,
 "nbformat_minor": 4
}
