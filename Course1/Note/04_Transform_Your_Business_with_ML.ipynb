{
 "cells": [
  {
   "cell_type": "markdown",
   "metadata": {},
   "source": [
    "## ML Strategy"
   ]
  },
  {
   "cell_type": "markdown",
   "metadata": {},
   "source": [
    "![1](https://user-images.githubusercontent.com/46242120/109752433-bce8b900-7c23-11eb-89bb-543c50b13c15.png)\n",
    "\n",
    "### Unstructured data accounts for 90% of enterprise data\n",
    "\n",
    "![2](https://user-images.githubusercontent.com/46242120/109752445-c114d680-7c23-11eb-8ae5-4ada99134c17.png)"
   ]
  },
  {
   "cell_type": "markdown",
   "metadata": {},
   "source": [
    "## Transform your business\n",
    "\n",
    "![3](https://user-images.githubusercontent.com/46242120/109752690-354f7a00-7c24-11eb-9b2b-6926fc5631d7.png)\n",
    "![4](https://user-images.githubusercontent.com/46242120/109752698-3aacc480-7c24-11eb-961d-a8e5d015c522.png)"
   ]
  }
 ],
 "metadata": {
  "kernelspec": {
   "display_name": "Python 3",
   "language": "python",
   "name": "python3"
  },
  "language_info": {
   "codemirror_mode": {
    "name": "ipython",
    "version": 3
   },
   "file_extension": ".py",
   "mimetype": "text/x-python",
   "name": "python",
   "nbconvert_exporter": "python",
   "pygments_lexer": "ipython3",
   "version": "3.7.2"
  }
 },
 "nbformat": 4,
 "nbformat_minor": 4
}
