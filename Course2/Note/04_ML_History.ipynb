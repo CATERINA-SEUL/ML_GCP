{
 "cells": [
  {
   "cell_type": "markdown",
   "metadata": {},
   "source": [
    "## Linear Regression : 1800s"
   ]
  },
  {
   "cell_type": "markdown",
   "metadata": {},
   "source": [
    "![1](https://user-images.githubusercontent.com/46242120/109819416-5e4d2a80-7c77-11eb-8f2a-ad7f0b4ae5e2.png)\n",
    "![2](https://user-images.githubusercontent.com/46242120/109819432-6311de80-7c77-11eb-8f47-82bdf6d8c890.png)\n",
    "![3](https://user-images.githubusercontent.com/46242120/109819434-63aa7500-7c77-11eb-842a-5f13aeb1b3ad.png)\n",
    "![4](https://user-images.githubusercontent.com/46242120/109819438-64dba200-7c77-11eb-93c6-eb4368f9b9f4.png)"
   ]
  },
  {
   "cell_type": "markdown",
   "metadata": {},
   "source": [
    "---\n",
    "### Linear Regression Quiz\n",
    "\n",
    "What is a hyperparameter that helps determine gradient descent's step size along the hypersurface to hopefully speed up convergence?\n",
    "\n",
    "    A. Collinearity measure\n",
    "    B. Learning rate\n",
    "    C. Gram matrix discriminant\n",
    "    D. Condition number\n",
    "    \n",
    "---- Answer : B. Learning rate"
   ]
  },
  {
   "cell_type": "markdown",
   "metadata": {},
   "source": [
    "----\n",
    "## Perceptron : 1940s"
   ]
  },
  {
   "cell_type": "markdown",
   "metadata": {},
   "source": [
    "![4](https://user-images.githubusercontent.com/46242120/109823657-7a52cb00-7c7b-11eb-8895-56426c68c6ab.png)\n",
    "![5](https://user-images.githubusercontent.com/46242120/109823675-7f177f00-7c7b-11eb-856d-fd0b2432898f.png)\n",
    "![6](https://user-images.githubusercontent.com/46242120/109823682-8048ac00-7c7b-11eb-80d3-c0ae56ee62a1.png)\n",
    "\n",
    "---\n",
    "### Perceptron Quiz\n",
    "\n",
    "what component of a biological neuron is analogous to the input portion of a perceptron?\n",
    "\n",
    "    A. Axon\n",
    "    B. Nueclus\n",
    "    C. Dendrites\n",
    "    D. Myelin Sheath\n",
    "    \n",
    "---- Answer : C. Dendrites\n",
    "\n",
    "----"
   ]
  },
  {
   "cell_type": "markdown",
   "metadata": {},
   "source": [
    "## Neural Networks : 1960s"
   ]
  },
  {
   "cell_type": "markdown",
   "metadata": {},
   "source": [
    "![10](https://user-images.githubusercontent.com/46242120/109827868-7628ac80-7c7f-11eb-920c-50cd7659adff.png)\n",
    "![11](https://user-images.githubusercontent.com/46242120/109827888-7aed6080-7c7f-11eb-8368-55f102759560.png)\n",
    "![12](https://user-images.githubusercontent.com/46242120/109827896-7c1e8d80-7c7f-11eb-9ae3-88eca2e2d6dd.png)\n",
    "![13](https://user-images.githubusercontent.com/46242120/109827899-7d4fba80-7c7f-11eb-9d21-6b48449e5d3c.png)\n",
    "![14](https://user-images.githubusercontent.com/46242120/109827902-7de85100-7c7f-11eb-8024-5ebd65a9de97.png)\n",
    "![15](https://user-images.githubusercontent.com/46242120/109827904-7e80e780-7c7f-11eb-9889-17fca8ff3745.png)\n",
    "![16](https://user-images.githubusercontent.com/46242120/109827907-7f197e00-7c7f-11eb-87b6-75e5a1044161.png)\n",
    "\n",
    "----\n",
    "### Neural Networks Quiz\n",
    "\n",
    "If I wanted my outputs to be in the form of probabilities which activation function should I use in the final layer?\n",
    "\n",
    "    A. Sigmoid\n",
    "    B. Tanh\n",
    "    C. ReLU\n",
    "    D. ELU\n",
    "    \n",
    "---- Answer : A. Sigmoid\n",
    "\n",
    "-----"
   ]
  },
  {
   "cell_type": "markdown",
   "metadata": {},
   "source": [
    "## Decision trees : 1980s"
   ]
  },
  {
   "cell_type": "markdown",
   "metadata": {},
   "source": [
    "![20](https://user-images.githubusercontent.com/46242120/109836928-010da500-7c88-11eb-83ab-eb4abb7e902a.png)\n",
    "![21](https://user-images.githubusercontent.com/46242120/109836941-0539c280-7c88-11eb-90f4-88aaaf5ab347.png)\n",
    "\n",
    "----\n",
    "### Decision Tree Quiz\n",
    "\n",
    "In a decision classification tree, what does each decision or node consist of?\n",
    "\n",
    "    A. Linear classifier of all features\n",
    "    B. Mean squared error minimizer\n",
    "    C. Linear classifier of one feature\n",
    "    D. Euclidean distance minimizer\n",
    "    \n",
    "---- Answer : C. Linear classifier of one feature\n",
    "\n",
    "----"
   ]
  },
  {
   "cell_type": "markdown",
   "metadata": {},
   "source": [
    "## Random Forests : 2000s"
   ]
  },
  {
   "cell_type": "markdown",
   "metadata": {},
   "source": [
    "![22](https://user-images.githubusercontent.com/46242120/109838075-2c44c400-7c89-11eb-894e-92baf4f45ad4.png)\n",
    "![23](https://user-images.githubusercontent.com/46242120/109838103-323aa500-7c89-11eb-87ad-ef6fb7d78b8f.png)\n",
    "\n",
    "----\n",
    "### Random Forests Quiz\n",
    "\n",
    "Which of the following is most likely false of random forests when comparing against individual decision trees?\n",
    "\n",
    "    A. Better generalization through bagging/subspacing\n",
    "    B. Has wisdom of the crowd through voting/aggregating\n",
    "    C. Similar bias but lower variance\n",
    "    D. Easier to visually interpret\n",
    "    \n",
    "---- Answer : D. Easier to visually interpret\n",
    "\n",
    "-----"
   ]
  },
  {
   "cell_type": "markdown",
   "metadata": {},
   "source": [
    "## Kernel Methods : 1990s"
   ]
  },
  {
   "cell_type": "markdown",
   "metadata": {},
   "source": [
    "![24](https://user-images.githubusercontent.com/46242120/109842295-4680a100-7c8d-11eb-9b2d-8d63b022be39.png)\n",
    "![25](https://user-images.githubusercontent.com/46242120/109842318-4d0f1880-7c8d-11eb-9ce3-39f015c73144.png)\n",
    "![26](https://user-images.githubusercontent.com/46242120/109842320-4e404580-7c8d-11eb-86b3-6f2ef9e1c7df.png)\n",
    "\n",
    "----\n",
    "## Kernel Methods Quiz\n",
    "\n",
    "We've seen how SVMs use kernels to map the inputs to a higher dimensional feature space. What thing in neural networks also can map to a higher dimensional vector space?\n",
    "\n",
    "    A. Activation function\n",
    "    B. More layers\n",
    "    C. More neurons per layer\n",
    "    D. Loss function\n",
    "    \n",
    "---- Answer : C. More neurons per layer\n",
    "\n",
    "----"
   ]
  },
  {
   "cell_type": "markdown",
   "metadata": {},
   "source": [
    "### Modern neural networks"
   ]
  },
  {
   "cell_type": "markdown",
   "metadata": {},
   "source": [
    "![27](https://user-images.githubusercontent.com/46242120/109843967-028e9b80-7c8f-11eb-94c0-c372e6ee774c.png)\n",
    "![28](https://user-images.githubusercontent.com/46242120/109843992-07ebe600-7c8f-11eb-9a4e-527770c79947.png)\n",
    "\n",
    "----\n",
    "### Neural Networks Quiz\n",
    "\n",
    "What is important when creating deep neural networks?\n",
    "\n",
    "    A. Lots of data\n",
    "    B. Having good generalization\n",
    "    C. Experimentation\n",
    "    D. All of the above\n",
    "    \n",
    "---- Answer : D. All of the above\n",
    "\n",
    "----\n",
    "\n",
    "![29](https://user-images.githubusercontent.com/46242120/109844410-6fa23100-7c8f-11eb-9293-d0680a430381.png)\n",
    "![30](https://user-images.githubusercontent.com/46242120/109844429-74ff7b80-7c8f-11eb-9399-205d2d9c2bef.png)"
   ]
  }
 ],
 "metadata": {
  "kernelspec": {
   "display_name": "Python 3",
   "language": "python",
   "name": "python3"
  },
  "language_info": {
   "codemirror_mode": {
    "name": "ipython",
    "version": 3
   },
   "file_extension": ".py",
   "mimetype": "text/x-python",
   "name": "python",
   "nbconvert_exporter": "python",
   "pygments_lexer": "ipython3",
   "version": "3.7.2"
  }
 },
 "nbformat": 4,
 "nbformat_minor": 4
}
