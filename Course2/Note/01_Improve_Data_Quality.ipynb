{
 "cells": [
  {
   "cell_type": "markdown",
   "metadata": {},
   "source": [
    "## Improve Data Quality"
   ]
  },
  {
   "cell_type": "markdown",
   "metadata": {},
   "source": [
    "you will learn that there are two phases in Machine Learning, a training phase and an inference phase. You will see that an ML problem can be thought of as being all about data.ㅁ\n",
    "\n",
    "![1](https://user-images.githubusercontent.com/46242120/109277688-feabe500-785a-11eb-82ab-b0e052c8e9fe.png)"
   ]
  },
  {
   "cell_type": "markdown",
   "metadata": {},
   "source": [
    "In any ML project, after you define the business use case and establish the success criteria, the process of delivering an ML model to production involves the following steps. These steps can be completed manually or can be completed by an automated pipeline. The first three steps deal with data. We can assess the quality of our data in these three steps. In data extraction, you retrieve data from various sources. Those sources can be streaming in real time or batch. For example, you may extract data from a customer relationship management system or CRM to analyze customer behavior. This data may be structured where it is in a given format such as a CSV or text, JSON or XML format. Or, you may have unstructured source data where you may have images of your customers or text comments from your chat sessions with your customers. Or you may have to extract Streaming Data from your company's transportation vehicles that are equipped with sensors that transmit data in real time. Other examples of unstructured data may include books and journals, documents, metadata, health records, audio, and video.\n",
    "\n",
    "In data analysis you analyze that data you've extracted. For example, you can use exploratory data analysis or EDA, which involves using graphics and basic sample statistics to get a feeling for what information might be obtainable from your dataset.\n",
    "\n",
    "You look at various aspects of the data such as outliers or anomalies, trends, and data distributions. All while attempting to identify those features that can aid in increasing the predictive power of your machine learning model. After you've extracted and analyzed your data, the next step in the process is data preparation. Data preparation includes data transformation, which is the process of changing or converting the format, structure or values of data you've extracted into another format or structure. There are many ways to prepare or transform data for machine learning model. For example, you may need to perform data cleansing where you need to remove superfluous and repeated records from raw data. Or you may need to alter data types where a data feature was mistyped and you need to convert it. Or you may need to convert categorical data to numerical data. Most ML models require categorical data to be in a numerical format. But some models work with either numeric or categorical features, while others can handle mixed type features.\n",
    "\n",
    "![2](https://user-images.githubusercontent.com/46242120/109277473-bb517680-785a-11eb-857f-dc567cc985ac.png)"
   ]
  },
  {
   "cell_type": "markdown",
   "metadata": {},
   "source": [
    "![3](https://user-images.githubusercontent.com/46242120/109278401-d670b600-785b-11eb-9cfc-05963156d931.png)"
   ]
  },
  {
   "cell_type": "markdown",
   "metadata": {},
   "source": [
    "### Ways to Improve Data Quality\n",
    "\n",
    " - Resolve Missing Values\n",
    " - Convert the Data feature column to Datetime Format\n",
    " - Parse date / time features\n",
    " - Remove unwanted values\n",
    " - Convert categorical columns to \"one-hot encodings\""
   ]
  },
  {
   "cell_type": "markdown",
   "metadata": {},
   "source": [
    "## Missing Values\n",
    "\n",
    "![4](https://user-images.githubusercontent.com/46242120/109280142-fd2fec00-785d-11eb-85d5-6d0a4388cbf9.png)\n",
    "![5](https://user-images.githubusercontent.com/46242120/109280151-015c0980-785e-11eb-9d3a-e8bba459e8a2.png)\n",
    "![6](https://user-images.githubusercontent.com/46242120/109280154-028d3680-785e-11eb-9155-7b02440fa645.png)\n",
    "![7](https://user-images.githubusercontent.com/46242120/109280156-03be6380-785e-11eb-801d-90425e7846e5.png)\n",
    "\n",
    "----\n",
    "\n",
    "## Datetime\n",
    "\n",
    "![8](https://user-images.githubusercontent.com/46242120/109280159-0456fa00-785e-11eb-8a7f-e03749be1f33.png)\n",
    "![9](https://user-images.githubusercontent.com/46242120/109280166-04ef9080-785e-11eb-991d-c9828f4f0163.png)\n",
    "![10](https://user-images.githubusercontent.com/46242120/109280168-05882700-785e-11eb-8ed0-9d93c1c055ff.png)\n",
    "![11](https://user-images.githubusercontent.com/46242120/109280171-0620bd80-785e-11eb-91c7-4576dbf75bd7.png)\n",
    "\n",
    "---\n",
    "\n",
    "## Categorical Data\n",
    "\n",
    "![12](https://user-images.githubusercontent.com/46242120/109280172-06b95400-785e-11eb-81ed-a738227426ac.png)\n",
    "![13](https://user-images.githubusercontent.com/46242120/109280175-0751ea80-785e-11eb-900a-0d761b45338a.png)\n",
    "\n",
    "----\n",
    "\n",
    "## Data Quality\n",
    "\n",
    "![14](https://user-images.githubusercontent.com/46242120/109280177-07ea8100-785e-11eb-804b-52495f5ed237.png)\n",
    "![15](https://user-images.githubusercontent.com/46242120/109280179-07ea8100-785e-11eb-8bac-c8b17becea9d.png)"
   ]
  },
  {
   "cell_type": "markdown",
   "metadata": {},
   "source": [
    "---\n",
    "## Lab Objectives\n",
    "\n",
    " - Resolve missing values.\n",
    " - Convert the Data feature column to a date time format.\n",
    " - Rename a feature column, remove a value from a feature column.\n",
    " - Create one-hot encodings.\n",
    " - Understand temporal features conversions."
   ]
  }
 ],
 "metadata": {
  "kernelspec": {
   "display_name": "Python 3",
   "language": "python",
   "name": "python3"
  },
  "language_info": {
   "codemirror_mode": {
    "name": "ipython",
    "version": 3
   },
   "file_extension": ".py",
   "mimetype": "text/x-python",
   "name": "python",
   "nbconvert_exporter": "python",
   "pygments_lexer": "ipython3",
   "version": "3.7.2"
  }
 },
 "nbformat": 4,
 "nbformat_minor": 4
}
