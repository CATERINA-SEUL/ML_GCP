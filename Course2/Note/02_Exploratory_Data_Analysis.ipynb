{
 "cells": [
  {
   "cell_type": "markdown",
   "metadata": {},
   "source": [
    "## What is Exploratory Data Analysis?"
   ]
  },
  {
   "cell_type": "markdown",
   "metadata": {},
   "source": [
    "![1](https://user-images.githubusercontent.com/46242120/109771381-152db400-7c40-11eb-9c92-1888f3512aef.png)\n",
    "\n",
    "![2](https://user-images.githubusercontent.com/46242120/109771402-1a8afe80-7c40-11eb-8467-26e4d98d1184.png)\n",
    "\n",
    "----\n",
    "\n",
    "![21](https://user-images.githubusercontent.com/46242120/109772091-f0860c00-7c40-11eb-8e65-bfd7e6701485.png)\n",
    "\n",
    "----\n",
    "\n",
    "![4](https://user-images.githubusercontent.com/46242120/109772101-f380fc80-7c40-11eb-9896-8aad4bdff152.png)\n",
    "![5](https://user-images.githubusercontent.com/46242120/109772114-f7148380-7c40-11eb-9347-65b22d9cb300.png)\n",
    "![6](https://user-images.githubusercontent.com/46242120/109772117-f845b080-7c40-11eb-8086-46613d0d5824.png)"
   ]
  },
  {
   "cell_type": "markdown",
   "metadata": {},
   "source": [
    "## How is EDA used in Machine Learning?"
   ]
  },
  {
   "cell_type": "markdown",
   "metadata": {},
   "source": [
    "![1](https://user-images.githubusercontent.com/46242120/109773137-2e376480-7c42-11eb-87cf-0be9c3a9a13d.png)\n",
    "![2](https://user-images.githubusercontent.com/46242120/109773149-32638200-7c42-11eb-8a3f-0f9977b1ba52.png)\n",
    "\n",
    "----\n",
    "\n",
    "![3](https://user-images.githubusercontent.com/46242120/109773302-650d7a80-7c42-11eb-912a-e45606a7b3f7.png)\n",
    "\n",
    "----\n",
    "\n",
    "![4](https://user-images.githubusercontent.com/46242120/109774225-773be880-7c43-11eb-8283-7f25e8b00f5a.png)\n",
    "\n",
    "---\n",
    "\n",
    "![5](https://user-images.githubusercontent.com/46242120/109773320-6b035b80-7c42-11eb-96d1-156e391b8b50.png)\n",
    "\n",
    "----\n",
    "\n",
    "![6](https://user-images.githubusercontent.com/46242120/109774253-7c993300-7c43-11eb-8f05-07e3532621ba.png)\n",
    "\n",
    "----\n",
    "\n",
    "![7](https://user-images.githubusercontent.com/46242120/109773331-6c348880-7c42-11eb-99ad-f8d460b35553.png)"
   ]
  },
  {
   "cell_type": "markdown",
   "metadata": {},
   "source": [
    "## Data Analysis and Visualization"
   ]
  },
  {
   "cell_type": "markdown",
   "metadata": {},
   "source": [
    "![8](https://user-images.githubusercontent.com/46242120/109774719-01844c80-7c44-11eb-9f34-afc308deab7a.png)\n",
    "![9](https://user-images.githubusercontent.com/46242120/109774738-0517d380-7c44-11eb-885e-f8c4de189b1a.png)\n",
    "![10](https://user-images.githubusercontent.com/46242120/109774747-06490080-7c44-11eb-8f4c-09f3945d7a45.png)\n",
    "\n",
    "![11](https://user-images.githubusercontent.com/46242120/109774751-077a2d80-7c44-11eb-9ae1-21283e521be4.png)\n",
    "![12](https://user-images.githubusercontent.com/46242120/109774754-0812c400-7c44-11eb-810e-5fa1b2f52947.png)"
   ]
  }
 ],
 "metadata": {
  "kernelspec": {
   "display_name": "Python 3",
   "language": "python",
   "name": "python3"
  },
  "language_info": {
   "codemirror_mode": {
    "name": "ipython",
    "version": 3
   },
   "file_extension": ".py",
   "mimetype": "text/x-python",
   "name": "python",
   "nbconvert_exporter": "python",
   "pygments_lexer": "ipython3",
   "version": "3.7.2"
  }
 },
 "nbformat": 4,
 "nbformat_minor": 4
}
