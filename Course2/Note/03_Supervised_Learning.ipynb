{
 "cells": [
  {
   "cell_type": "markdown",
   "metadata": {},
   "source": [
    "## Supervised Learning\n",
    "\n",
    "![1](https://user-images.githubusercontent.com/46242120/109784814-ce938600-7c4e-11eb-98c9-40cda58b14e7.png)\n",
    "![2](https://user-images.githubusercontent.com/46242120/109784836-d3583a00-7c4e-11eb-9e06-af141cde4b6b.png)\n",
    "\n",
    "----\n",
    "\n",
    "### Supervised Learning Quiz\n",
    "\n",
    " Imagine you are in banking and you are creating an ML model for detecting if transactions are fraudulent or not. Is this classification or regression and why?\n",
    "\n",
    "    A. Regression, categorical label\n",
    "    B. Regression, continuous label\n",
    "    C. Classification, categorical label\n",
    "    D. Classification, continuous label\n",
    "    \n",
    "----- Answer : C. Classification, categorical label\n",
    "\n",
    "---"
   ]
  },
  {
   "cell_type": "markdown",
   "metadata": {},
   "source": [
    "## Regression and Classification"
   ]
  },
  {
   "cell_type": "markdown",
   "metadata": {},
   "source": [
    "![3](https://user-images.githubusercontent.com/46242120/109787587-b96c2680-7c51-11eb-9087-dfb9bb54fcb5.png)\n",
    "![4](https://user-images.githubusercontent.com/46242120/109787608-bec97100-7c51-11eb-9d79-d36d3b6fb1db.png)\n",
    "\n",
    "-----\n",
    "\n",
    "### Regression / Classification Quiz\n",
    "\n",
    "Is this dataset a good candidate for linear regression and / or linear classification?\n",
    "\n",
    "    A. Linear regression\n",
    "    B. Linear classification\n",
    "    C. Both\n",
    "    D. None of the above\n",
    "    \n",
    "---- Answer : C. Both\n",
    "\n",
    "![5](https://user-images.githubusercontent.com/46242120/109787630-c426bb80-7c51-11eb-85d3-a72c85431a52.png)\n",
    "\n",
    "----"
   ]
  }
 ],
 "metadata": {
  "kernelspec": {
   "display_name": "Python 3",
   "language": "python",
   "name": "python3"
  },
  "language_info": {
   "codemirror_mode": {
    "name": "ipython",
    "version": 3
   },
   "file_extension": ".py",
   "mimetype": "text/x-python",
   "name": "python",
   "nbconvert_exporter": "python",
   "pygments_lexer": "ipython3",
   "version": "3.7.2"
  }
 },
 "nbformat": 4,
 "nbformat_minor": 4
}
